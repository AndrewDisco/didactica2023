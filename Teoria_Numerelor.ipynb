{
  "cells": [
    {
      "cell_type": "markdown",
      "metadata": {
        "id": "view-in-github",
        "colab_type": "text"
      },
      "source": [
        "<a href=\"https://colab.research.google.com/github/AndrewDisco/didactica2023/blob/main/Teoria_Numerelor.ipynb\" target=\"_parent\"><img src=\"https://colab.research.google.com/assets/colab-badge.svg\" alt=\"Open In Colab\"/></a>"
      ]
    },
    {
      "cell_type": "markdown",
      "metadata": {
        "id": "9bR55y6qgp1s"
      },
      "source": [
        "## În cele ce urmează, aș dori să vă prezint o metodă inovatoare de compunere a problemelor de teoria numerelor folosind programarea. Această metodă combină cunoștințele de matematică cu abilitățile de programare, astfel încât se pot crea probleme interesante și provocatoare.\n",
        "\n",
        "\\\\\n",
        "## Pentru a ilustra această metodă, voi prezenta un program scris în limbajul de programare Python, care găsește perechi de numere ce satisfac o anumită condiție."
      ]
    },
    {
      "cell_type": "code",
      "execution_count": null,
      "metadata": {
        "id": "2TPQE09ygp1v"
      },
      "outputs": [],
      "source": [
        "def stringToInt(s: str) -> int:\n",
        "    result = 0\n",
        "    for c in s:\n",
        "        result = result * 10 + (ord(c) - ord('0'))\n",
        "    return result\n",
        "\n",
        "def reverses(n: int) -> int:\n",
        "    s = str(n)\n",
        "    s = s[::-1]\n",
        "    return stringToInt(s)"
      ]
    },
    {
      "cell_type": "code",
      "source": [
        "def findSolutions():\n",
        "    n = int(input(\"Cate numere trebuie gasite?\\n\"))\n",
        "    count = 0\n",
        "    seenReverses = set()\n",
        "    seenPairs = set()\n",
        "    i = 10\n",
        "    pairs = set()\n",
        "    while count < n:\n",
        "        if i % 10 == 0:\n",
        "            i += 1\n",
        "            continue\n",
        "        square = i * i\n",
        "        rev = reverses(i)\n",
        "        if i == rev:\n",
        "            i += 1\n",
        "            continue\n",
        "        revSquare = reverses(square)\n",
        "        if revSquare == rev * rev and rev not in seenReverses:\n",
        "            pair1 = str(i) + \"^2 = \" + str(square)\n",
        "            pair2 = str(rev) + \"^2 = \" + str(revSquare)\n",
        "            if pair1 not in seenPairs and pair2 not in seenPairs:\n",
        "                pairs.add((pair1, pair2))\n",
        "                count += 1\n",
        "                seenReverses.add(rev)\n",
        "                seenPairs.add(pair1)\n",
        "                seenPairs.add(pair2)\n",
        "        i += 1\n",
        "    return pairs"
      ],
      "metadata": {
        "id": "8GvZvX2sWJ0W"
      },
      "execution_count": null,
      "outputs": []
    },
    {
      "cell_type": "markdown",
      "source": [
        "#Acum funcția poate fi rulată cu ușurință."
      ],
      "metadata": {
        "id": "iyoFs5Y_XArE"
      }
    },
    {
      "cell_type": "code",
      "source": [
        "findSolutions()"
      ],
      "metadata": {
        "colab": {
          "base_uri": "https://localhost:8080/"
        },
        "id": "CzJTodC3WnVh",
        "outputId": "85ac4585-3a40-4e8a-b3f1-c60c0236280d"
      },
      "execution_count": null,
      "outputs": [
        {
          "name": "stdout",
          "output_type": "stream",
          "text": [
            "Cate numere trebuie gasite?\n",
            "20\n"
          ]
        },
        {
          "output_type": "execute_result",
          "data": {
            "text/plain": [
              "{('1002^2 = 1004004', '2001^2 = 4004001'),\n",
              " ('1003^2 = 1006009', '3001^2 = 9006001'),\n",
              " ('1011^2 = 1022121', '1101^2 = 1212201'),\n",
              " ('1012^2 = 1024144', '2101^2 = 4414201'),\n",
              " ('1013^2 = 1026169', '3101^2 = 9616201'),\n",
              " ('1021^2 = 1042441', '1201^2 = 1442401'),\n",
              " ('1022^2 = 1044484', '2201^2 = 4844401'),\n",
              " ('102^2 = 10404', '201^2 = 40401'),\n",
              " ('1031^2 = 1062961', '1301^2 = 1692601'),\n",
              " ('103^2 = 10609', '301^2 = 90601'),\n",
              " ('1102^2 = 1214404', '2011^2 = 4044121'),\n",
              " ('1103^2 = 1216609', '3011^2 = 9066121'),\n",
              " ('1112^2 = 1236544', '2111^2 = 4456321'),\n",
              " ('1113^2 = 1238769', '3111^2 = 9678321'),\n",
              " ('1121^2 = 1256641', '1211^2 = 1466521'),\n",
              " ('112^2 = 12544', '211^2 = 44521'),\n",
              " ('113^2 = 12769', '311^2 = 96721'),\n",
              " ('122^2 = 14884', '221^2 = 48841'),\n",
              " ('12^2 = 144', '21^2 = 441'),\n",
              " ('13^2 = 169', '31^2 = 961')}"
            ]
          },
          "metadata": {},
          "execution_count": 4
        }
      ]
    },
    {
      "cell_type": "markdown",
      "source": [
        "### Acum, pornind de la problema informatică propusă mai sus și rezultatul funcției rulate, putem elabora o problemă din două părți. Un exemplu ar fi următorul: \n",
        "<br></br>\n",
        "\n",
        "$\\textrm{Un număr se numește elocvent dacă acesta îndeplinește următoarele condiții:}$\n",
        "<br>\n",
        "$\\textrm{1) Acesta are mai mult de o cifră;}$\n",
        "<br>\n",
        "$\\textrm{2) Inversul pătratului numărului elocvent este egal cu pătratul inversului numărului.}$ <br>\n",
        "$\\textrm{3) Invers}$ $\\neq$ $\\textrm{Numar elocvent (fără terminațiile în 0-uri)}$\n",
        "<br></br>\n",
        "\n",
        "$\\textrm{a) Verificați dacă 113 este un număr elocvent.}$ <br>\n",
        "$\\textrm{b) Arătați că există o infinitate de numere elocvente.}$ \n",
        "<br> </br>\n",
        "\n",
        "## Rezolvare\n",
        "\n",
        "---\n",
        "\n",
        "\n",
        "\n",
        "$\\textrm{b)}$ Pentru a arăta că există o infinitate de numere elocvente, vom construi o familie de astfel de numere.\n",
        "\n",
        "Fie $n$ un număr natural arbitrar cu cel puțin două cifre. Putem scrie acest număr sub forma $n = \\overline{a_1a_2 \\cdots a_k}$, unde $a_i$ sunt cifrele lui $n$. Definim numărul $m$ ca fiind $\\overline{a_1a_2 \\cdots a_ka_ka_{k-1}\\cdots a_1}$. Cu alte cuvinte, $m$ este numărul obținut prin concatenarea lui $n$ cu inversul său.\n",
        "\n",
        "De exemplu, dacă $n = 1234$, atunci $m = 12344321$.\n",
        "\n",
        "Vom arăta că $m$ este un număr elocvent. Pentru aceasta, trebuie să verificăm cele trei condiții:\n",
        "\n",
        "1) $m$ are mai mult de o cifră: acest fapt este adevărat deoarece $n$ are cel puțin două cifre.\n",
        "\n",
        "2) Inversul pătratului numărului $m$ este egal cu pătratul inversului său:\n",
        "\n",
        "$$\\frac{1}{m^2} = \\frac{1}{(\\overline{a_1a_2 \\cdots a_ka_ka_{k-1}\\cdots a_1})^2} = \\frac{1}{\\overline{a_1a_2 \\cdots a_k} \\cdot \\overline{a_ka_{k-1}\\cdots a_1}} = \\frac{1}{n\\cdot \\overline{n}} = \\left(\\frac{1}{n}\\right)^2 \\cdot \\left(\\frac{1}{\\overline{n}}\\right)^2 $$\n",
        "\n",
        "Deci avem:\n",
        "\n",
        "$$m^2 = \\frac{1}{\\left(\\frac{1}{m}\\right)^2} = \\frac{1}{\\left(\\frac{1}{n}+\\frac{1}{\\overline{n}}\\right)^2} = \\frac{n^2 \\cdot \\overline{n}^2}{(n+\\overline{n})^2}$$\n",
        "\n",
        "Observăm că $n+\\overline{n}$ este un număr palindromic, deci putem nota $n+\\overline{n} = \\overline{b_1b_2 \\cdots b_{2k}}$, unde $b_i$ sunt cifre. Atunci:\n",
        "\n",
        "$$m^2 = \\frac{n^2 \\cdot \\overline{n}^2}{(n+\\overline{n})^2} = \\frac{n^2 \\cdot \\overline{n}^2}{\\overline{b_1b_2 \\cdots b_{2k}}^2} = \\frac{n^2 \\cdot \\overline{n}^2}{\\overline{b_{2k}b_{2k-1}\\cdots b_2b_1 \\cdots b_{2k}b_{2k-1}\\cdots b_2b_1}}$$\n",
        "\n",
        "Deci, inversul pătratului numărului $m$ este egal cu pătratul inversului său:\n",
        "\n",
        "\n",
        "$$\\frac{1}{m^2} = \\frac{\\overline{b_{2k}b_{2k-1}\\cdots b_2b_1}}{n^2 \\cdot \\overline{n}^2} = \\left(\\frac{1}{n}\\right)^2 \\cdot \\left(\\frac{1}{\\overline{n}}\\right)^2$$\n",
        "\n",
        "Astfel, am demonstrat că $m$ este un număr elocvent.\n",
        "\n",
        "Mai rămâne să verificăm condiția a treia: inversul fără terminații în 0-uri al lui $m$ trebuie să fie diferit de un număr elocvent. Observăm că inversul fără terminații în 0-uri al lui $m$ este $\\overline{a_ka_{k-1}\\cdots a_1a_k}$, care este diferit de $m$ deoarece are cu două cifre mai puțin și nu poate fi elocvent deoarece are o cifră sau este o putere a lui 10.\n",
        "\n",
        "Astfel, am arătat că pentru orice număr natural $n$ cu cel puțin două cifre, există un număr elocvent $m$ construit din concatenarea lui $n$ cu inversul său. Deoarece există o infinitate de astfel de numere $n$, există o infinitate de numere elocvente."
      ],
      "metadata": {
        "id": "ApcS1wTPhUU5"
      }
    },
    {
      "cell_type": "code",
      "source": [
        "import itertools\n",
        "\n",
        "def findTriplets(n, m):\n",
        "    triplets = []\n",
        "    for a, b, c in itertools.product(range(1, m+1), repeat=3):\n",
        "        d = int((a**2 + b**2 + c**2)**(1/3))\n",
        "        if a**2 + b**2 + c**2 == d**3:\n",
        "            triplets.append((a, b, c))\n",
        "            if len(triplets) == n:\n",
        "                break\n",
        "    return triplets"
      ],
      "metadata": {
        "id": "B_X1zhItiypS"
      },
      "execution_count": null,
      "outputs": []
    },
    {
      "cell_type": "markdown",
      "source": [
        "#Acum funcția poate fi rulată cu ușurință."
      ],
      "metadata": {
        "id": "i4T9JDX8i6z1"
      }
    },
    {
      "cell_type": "code",
      "source": [
        "findTriplets(4, 100)"
      ],
      "metadata": {
        "colab": {
          "base_uri": "https://localhost:8080/"
        },
        "id": "YEE5QNyti8__",
        "outputId": "2b2afbb6-9dbb-46c3-cbc5-810e9cec5251"
      },
      "execution_count": null,
      "outputs": [
        {
          "output_type": "execute_result",
          "data": {
            "text/plain": [
              "[(1, 1, 5), (1, 5, 1), (3, 3, 3), (5, 1, 1)]"
            ]
          },
          "metadata": {},
          "execution_count": 9
        }
      ]
    },
    {
      "cell_type": "markdown",
      "source": [
        "### Avem, așadar o nouă situație în care putem formula o problemă din două părți. Și de această dată, calea ne-a fost facilitată de rularea unei funcții. \n",
        "Un exemplu de problemă ar putea fi următorul:<br> </br>\n",
        "\n",
        "$\\textrm{Fie un triplet de numere a, b și c astfel încât } a^2+b^2+c^2=d^3.$ <br>\n",
        "$\\textrm{a) Găsiți tripletul cu cea mai mică sumă a termenilor care îndeplinește cerința.}$ <br>\n",
        "$\\textrm{b) Arătați că există o infinitate de astfel de triplete.}$\n",
        "\n",
        "## Rezolvare\n",
        "\n",
        "---\n",
        "b)\n",
        "$$\n",
        "\\begin{aligned}\n",
        "& a^2+b^2+c^2=d^3 \\quad / \\cdot k^6 ; k \\in \\mathbb{N} \\\\\n",
        "& \\left(a \\cdot k^3\\right)^2+\\left(b \\cdot k^3\\right)^2+\\left(c \\cdot k^3\\right)^2= (d \\cdot k^2)^3 \\\\ \\\\\n",
        "& x_1=a \\cdot k^3 \\\\\n",
        "& x_2=b \\cdot k^3 \\\\\n",
        "& x_3=c \\cdot k^3 \\\\\n",
        "& x_4=d \\cdot k^2 \\\\\n",
        "& \\textrm{Cum } k \\in \\mathbb{N} \\textrm{ care poate lua valori infinite, vor exista o infinitate de numere } x_1, x_2, x_3 \\textrm{ și } x_4. \\\\ \\\\\n",
        "& \\textrm{Astfel, există și o infinitate de numere } a,b,c.\n",
        "\\end{aligned}\n",
        "$$"
      ],
      "metadata": {
        "id": "MooW0I9HD0AF"
      }
    },
    {
      "cell_type": "code",
      "source": [
        "def sum_divisors(n):\n",
        "    result = 1  # incepem cu 1 deoarece toate numere sunt divizibile cu 1\n",
        "    for i in range(2, int(n**0.5)+1):\n",
        "        if n % i == 0:\n",
        "            result += i\n",
        "            if i != n//i:\n",
        "                result += n//i\n",
        "    if n > 1:\n",
        "        result += n\n",
        "    return result\n",
        "\n",
        "def find_smallest_triplets():\n",
        "    triplet_found = False\n",
        "    a = 2\n",
        "    while not triplet_found:\n",
        "        sum_a = sum_divisors(a)\n",
        "        b = a + 1\n",
        "        while b < sum_a and not triplet_found:\n",
        "            sum_b = sum_divisors(b)\n",
        "            c = b + 1\n",
        "            while c <= sum_b and not triplet_found:\n",
        "                sum_c = sum_divisors(c)\n",
        "                if sum_a == sum_b == sum_c:\n",
        "                    triplet_found = True\n",
        "                    print(\"Cele mai mici triplete cu suma divizorilor aceeasi este: \", a, b, c)\n",
        "                c += 1\n",
        "            b += 1\n",
        "        a += 1\n"
      ],
      "metadata": {
        "id": "qTuOY0CUU-Jv"
      },
      "execution_count": null,
      "outputs": []
    },
    {
      "cell_type": "code",
      "source": [
        "find_smallest_triplets()"
      ],
      "metadata": {
        "colab": {
          "base_uri": "https://localhost:8080/"
        },
        "id": "g_JNufV7VCwS",
        "outputId": "badb4c07-7c5d-477b-9df7-5d2ea7a9c9ff"
      },
      "execution_count": null,
      "outputs": [
        {
          "output_type": "stream",
          "name": "stdout",
          "text": [
            "Cele mai mici triplete cu suma divizorilor aceeasi este:  14 15 23\n"
          ]
        }
      ]
    },
    {
      "cell_type": "markdown",
      "source": [
        "### Acum, pornind de la problema informatică propusă mai sus și rezultatul funcției rulate, putem elabora o problemă din două părți. Un exemplu ar fi următorul: \n",
        "<br></br>\n",
        "\n",
        "$\\textrm{Fie x,y,z un triplet de numere astfel încât suma divizorilor acestora să fie egală.}$\n",
        "<br>\n",
        "\n",
        "$\\textrm{a) Găsiți cel mai mic astfel de triplet.}$ <br>\n",
        "$\\textrm{b) Arătați că există o infinitate de triplete de acest fel.}$ \n",
        "<br> </br>\n",
        "\n",
        "## Rezolvare\n",
        "\n",
        "---\n",
        "\n",
        "b)\n",
        "$$\n",
        "\\begin{aligned}\n",
        "& \\left.\\begin{array}{l}\n",
        "(m, n)=1 \\\\\n",
        "(m, p)=1 \\\\\n",
        "s(n)=s(p)\n",
        "\\end{array}\\right\\} \\implies \\quad s(m \\cdot n)=s(m \\cdot p) \\\\ \\\\\n",
        "& D_n=\\left\\{d_1^n ; d_2^n ; \\ldots ; d_{\\tau(n)}^n\\right\\} \\\\\n",
        "& D_p=\\left\\{d_1^p ; d_2^p ; \\ldots ; d_{\\tau(p)}^p\\right\\} \\\\\n",
        "& D_m=\\left\\{d_1^m ; d_2^m ; \\ldots  ;d_{\\tau(m)}^m\\right\\} \\\\\n",
        "& D_{m \\cdot n} = \\left\\{d_1^n ; d_2^n ; \\ldots ;d_{\\tau(n)}^n; \\\\ d_1^m \\cdot d_1^n; d_1^m \\cdot d_2^n; \\ldots \\right\\} \\\\ \\\\\n",
        "&\n",
        "\\end{aligned}\n",
        "$$\n",
        "\n",
        "$$\n",
        "\\begin{aligned}\n",
        "& \\left.\\begin{array}{l}\n",
        "s(m \\cdot n)=s(m) \\cdot s(n) \\\\\n",
        "s\\left(m \\cdot p\\right)=s(m) \\cdot s(p) \\\\\n",
        "s (n)=s(p)\n",
        "\\end{array}\\right\\} \\implies \\quad s(m \\cdot n)= s(n \\cdot p) \\\\\n",
        "&\n",
        "\\end{aligned}\n",
        "$$\n",
        "\n",
        "$$\n",
        "\\begin{aligned}\n",
        "& k=11^n \\\\\n",
        "& a_1=14 \\cdot 11^n \\\\\n",
        "& b_1=15 \\cdot 11^n \\\\\n",
        "& c_1=23 \\cdot 11^n, n \\in \\mathbb{N}^* \\\\\n",
        "& \\textrm{Cum } n \\textrm{ poate lua valori infinite, și } a_1, b_1, c_1 \\textrm{ vor lua un număr infinit de valori.} \\\\\n",
        "& \\textrm{Astfel, se poate arăta că există un număr infinit de numere cu aceeasi suma a divizorilor.}\n",
        "\\end{aligned}\n",
        "$$\n"
      ],
      "metadata": {
        "id": "q6koxH7132ML"
      }
    }
  ],
  "metadata": {
    "kernelspec": {
      "display_name": "Python 3",
      "language": "python",
      "name": "python3"
    },
    "language_info": {
      "codemirror_mode": {
        "name": "ipython",
        "version": 3
      },
      "file_extension": ".py",
      "mimetype": "text/x-python",
      "name": "python",
      "nbconvert_exporter": "python",
      "pygments_lexer": "ipython3",
      "version": "3.10.11"
    },
    "orig_nbformat": 4,
    "colab": {
      "provenance": [],
      "include_colab_link": true
    }
  },
  "nbformat": 4,
  "nbformat_minor": 0
}